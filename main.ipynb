{
 "cells": [
  {
   "cell_type": "markdown",
   "metadata": {},
   "source": [
    "## 期末專題題目:\n",
    "### 議會質詢統計\n",
    "\n",
    "- 1.類別分析\n",
    "    - 哪類較多筆\n",
    "    - 個人各類幾筆\n",
    "- 2.個別次數分析\n",
    "    - 個人總共幾次書面質詢\n",
    "    - 某個時間區間此類別很多筆\n",
    "- 3.時間分析\n",
    "    - 某議員在特定月份較多書面質詢\n",
    "\n",
    "\n"
   ]
  },
  {
   "cell_type": "code",
   "execution_count": 1,
   "metadata": {},
   "outputs": [],
   "source": [
    "import re\n",
    "import numpy as np\n",
    "import pandas as pd\n",
    "import requests as rq\n",
    "from bs4 import BeautifulSoup\n",
    "import matplotlib.pyplot as plt \n",
    "import matplotlib as mpl"
   ]
  },
  {
   "cell_type": "code",
   "execution_count": 2,
   "metadata": {},
   "outputs": [
    {
     "name": "stdout",
     "output_type": "stream",
     "text": [
      "網頁下載失敗: ('Connection aborted.', RemoteDisconnected('Remote end closed connection without response'))\n"
     ]
    },
    {
     "ename": "ValueError",
     "evalue": "need at least one array to concatenate",
     "output_type": "error",
     "traceback": [
      "\u001b[0;31m---------------------------------------------------------------------------\u001b[0m",
      "\u001b[0;31mValueError\u001b[0m                                Traceback (most recent call last)",
      "Cell \u001b[0;32mIn [2], line 34\u001b[0m\n\u001b[1;32m     31\u001b[0m     table\u001b[38;5;241m.\u001b[39mappend(page_detail)\n\u001b[1;32m     32\u001b[0m \u001b[38;5;66;03m# print(table)\u001b[39;00m\n\u001b[0;32m---> 34\u001b[0m table \u001b[38;5;241m=\u001b[39m \u001b[43mnp\u001b[49m\u001b[38;5;241;43m.\u001b[39;49m\u001b[43mconcatenate\u001b[49m\u001b[43m(\u001b[49m\u001b[43mtable\u001b[49m\u001b[43m,\u001b[49m\u001b[43m \u001b[49m\u001b[43maxis\u001b[49m\u001b[38;5;241;43m=\u001b[39;49m\u001b[38;5;241;43m0\u001b[39;49m\u001b[43m)\u001b[49m       \u001b[38;5;66;03m# 因為不同頁面list會分隔,我只要一個[]就好       \u001b[39;00m\n\u001b[1;32m     35\u001b[0m table \u001b[38;5;241m=\u001b[39m np\u001b[38;5;241m.\u001b[39masarray(table)                   \u001b[38;5;66;03m# 存成 numpy array\u001b[39;00m\n\u001b[1;32m     36\u001b[0m table \u001b[38;5;241m=\u001b[39m np\u001b[38;5;241m.\u001b[39mdelete(table,\u001b[38;5;241m2\u001b[39m,\u001b[38;5;241m1\u001b[39m)                \u001b[38;5;66;03m# 去除質詢題目(字太多會爬很久)\u001b[39;00m\n",
      "File \u001b[0;32m<__array_function__ internals>:180\u001b[0m, in \u001b[0;36mconcatenate\u001b[0;34m(*args, **kwargs)\u001b[0m\n",
      "\u001b[0;31mValueError\u001b[0m: need at least one array to concatenate"
     ]
    }
   ],
   "source": [
    "table = []\n",
    "for i in range(29,108):  # 29~107\n",
    "    url = f\"https://tcckm.tcc.gov.tw/tccgazFront/qnews/qnews_forTCC.jsp?t=4&groupingType=1&gTrmPrdCnltype=&dept_name=&page={i}\"\n",
    "    try:\n",
    "        response = rq.get(url)              # 用 requests 的 get 方法把網頁抓下來\n",
    "        # print(\"下載成功\")\n",
    "    except Exception as err:\n",
    "        print(f\"網頁下載失敗: {err}\")\n",
    "        break\n",
    "    \n",
    "    html_doc = response.text                    # text 屬性就是 html 檔案(全部)\n",
    "    soup = BeautifulSoup(html_doc, \"lxml\")      # 指定 lxml 作為解析器(才能搜尋想爬的內容)\n",
    "    fs = soup.find_all(\"td\", class_=\"center\")   # 爬出(書面質詢紀錄)所有內容\n",
    "    \n",
    "    all_txt = []                                # 只保留 text 並以 list 存起來(每一頁用list存起來才能用split&slice)\n",
    "    for f in fs:\n",
    "        all_txt.append(f.text)\n",
    "    \n",
    "    \n",
    "    data = all_txt[0].split('\\n')                           # all_txt 以換行符號分開\n",
    "    new_data = data[178:-8]                                 # 保留需要的資訊\n",
    "    data_list = [x for x in new_data if not x.isdigit()]    # 扣除順序(以利顯示)\n",
    "\n",
    "    page_txt = [t for t in data_list if len(t) > 1]                         # 扣除''(只保留文字)\n",
    "    page_txt = [re.sub(r'。','',t)for t in page_txt]                        # 扣除句號(後來發現有句號在名字裡)\n",
    "    page_txt = page_txt[6:]\n",
    "    page_detail = [page_txt[i:i+4] for i in range(0, len(page_txt), 4)]     # 每6個元素一組建立新的 list\n",
    "    table.append(page_detail)\n",
    "\n",
    "table = np.concatenate(table, axis=0)       # 因為不同頁面list會分隔,我只要一個[]就好       \n",
    "table = np.asarray(table)                   # 存成 numpy array\n",
    "table = np.delete(table,2,1)                # 去除質詢題目(字太多會爬很久)\n",
    "print(table)                                # 確認內容\n"
   ]
  },
  {
   "cell_type": "code",
   "execution_count": 25,
   "metadata": {},
   "outputs": [
    {
     "data": {
      "text/html": [
       "<div>\n",
       "<style scoped>\n",
       "    .dataframe tbody tr th:only-of-type {\n",
       "        vertical-align: middle;\n",
       "    }\n",
       "\n",
       "    .dataframe tbody tr th {\n",
       "        vertical-align: top;\n",
       "    }\n",
       "\n",
       "    .dataframe thead th {\n",
       "        text-align: right;\n",
       "    }\n",
       "</style>\n",
       "<table border=\"1\" class=\"dataframe\">\n",
       "  <thead>\n",
       "    <tr style=\"text-align: right;\">\n",
       "      <th></th>\n",
       "      <th>Date</th>\n",
       "      <th>Category</th>\n",
       "      <th>Name</th>\n",
       "    </tr>\n",
       "  </thead>\n",
       "  <tbody>\n",
       "    <tr>\n",
       "      <th>0</th>\n",
       "      <td>民國113年02月06日</td>\n",
       "      <td>教育</td>\n",
       "      <td>張志豪</td>\n",
       "    </tr>\n",
       "    <tr>\n",
       "      <th>1</th>\n",
       "      <td>民國113年02月06日</td>\n",
       "      <td>財政建設</td>\n",
       "      <td>張志豪</td>\n",
       "    </tr>\n",
       "    <tr>\n",
       "      <th>2</th>\n",
       "      <td>民國113年02月06日</td>\n",
       "      <td>交通</td>\n",
       "      <td>簡舒培</td>\n",
       "    </tr>\n",
       "    <tr>\n",
       "      <th>3</th>\n",
       "      <td>民國113年02月05日</td>\n",
       "      <td>工務</td>\n",
       "      <td>詹為元</td>\n",
       "    </tr>\n",
       "    <tr>\n",
       "      <th>4</th>\n",
       "      <td>民國113年02月05日</td>\n",
       "      <td>交通</td>\n",
       "      <td>詹為元</td>\n",
       "    </tr>\n",
       "    <tr>\n",
       "      <th>...</th>\n",
       "      <td>...</td>\n",
       "      <td>...</td>\n",
       "      <td>...</td>\n",
       "    </tr>\n",
       "    <tr>\n",
       "      <th>515</th>\n",
       "      <td>民國112年06月07日</td>\n",
       "      <td>交通</td>\n",
       "      <td>李明賢</td>\n",
       "    </tr>\n",
       "    <tr>\n",
       "      <th>516</th>\n",
       "      <td>民國112年06月07日</td>\n",
       "      <td>工務</td>\n",
       "      <td>李明賢</td>\n",
       "    </tr>\n",
       "    <tr>\n",
       "      <th>517</th>\n",
       "      <td>民國112年06月07日</td>\n",
       "      <td>工務</td>\n",
       "      <td>李明賢</td>\n",
       "    </tr>\n",
       "    <tr>\n",
       "      <th>518</th>\n",
       "      <td>民國112年06月07日</td>\n",
       "      <td>工務</td>\n",
       "      <td>李明賢</td>\n",
       "    </tr>\n",
       "    <tr>\n",
       "      <th>519</th>\n",
       "      <td>民國112年06月07日</td>\n",
       "      <td>交通</td>\n",
       "      <td>李明賢</td>\n",
       "    </tr>\n",
       "  </tbody>\n",
       "</table>\n",
       "<p>520 rows × 3 columns</p>\n",
       "</div>"
      ],
      "text/plain": [
       "             Date Category Name\n",
       "0    民國113年02月06日       教育  張志豪\n",
       "1    民國113年02月06日     財政建設  張志豪\n",
       "2    民國113年02月06日       交通  簡舒培\n",
       "3    民國113年02月05日       工務  詹為元\n",
       "4    民國113年02月05日       交通  詹為元\n",
       "..            ...      ...  ...\n",
       "515  民國112年06月07日       交通  李明賢\n",
       "516  民國112年06月07日       工務  李明賢\n",
       "517  民國112年06月07日       工務  李明賢\n",
       "518  民國112年06月07日       工務  李明賢\n",
       "519  民國112年06月07日       交通  李明賢\n",
       "\n",
       "[520 rows x 3 columns]"
      ]
     },
     "execution_count": 25,
     "metadata": {},
     "output_type": "execute_result"
    }
   ],
   "source": [
    "df = pd.DataFrame(table, columns=[\"Date\", \"Category\", \"Name\"])     # 用 pandas dataframe 輸出\n",
    "df.to_csv(f\"./table_29to107.csv\", encoding=\"utf_8_sig\")\n",
    "df"
   ]
  },
  {
   "cell_type": "code",
   "execution_count": 27,
   "metadata": {},
   "outputs": [
    {
     "name": "stdout",
     "output_type": "stream",
     "text": [
      "             Date Category Name\n",
      "0    民國113年02月06日       教育  張志豪\n",
      "1    民國113年02月06日     財政建設  張志豪\n",
      "2    民國113年02月06日       交通  簡舒培\n",
      "3    民國113年02月05日       工務  詹為元\n",
      "4    民國113年02月05日       交通  詹為元\n",
      "..            ...      ...  ...\n",
      "515  民國112年06月07日       交通  李明賢\n",
      "516  民國112年06月07日       工務  李明賢\n",
      "517  民國112年06月07日       工務  李明賢\n",
      "518  民國112年06月07日       工務  李明賢\n",
      "519  民國112年06月07日       交通  李明賢\n",
      "\n",
      "[520 rows x 3 columns]\n"
     ]
    },
    {
     "data": {
      "text/plain": [
       "str"
      ]
     },
     "execution_count": 27,
     "metadata": {},
     "output_type": "execute_result"
    }
   ],
   "source": [
    "row_data = pd.read_csv(\"./table_29to107.csv\", encoding=\"utf_8_sig\", index_col=0)\n",
    "print(row_data)     # 檢查\n",
    "# type(row_data['Date'][0])   # 確認是string"
   ]
  },
  {
   "cell_type": "markdown",
   "metadata": {},
   "source": [
    "### translate time to AD for panda timesamp  "
   ]
  },
  {
   "cell_type": "code",
   "execution_count": 40,
   "metadata": {},
   "outputs": [
    {
     "name": "stdout",
     "output_type": "stream",
     "text": [
      "          Date Category Name\n",
      "0   2024-02-06       教育  張志豪\n",
      "1   2024-02-06     財政建設  張志豪\n",
      "2   2024-02-06       交通  簡舒培\n",
      "3   2024-02-05       工務  詹為元\n",
      "4   2024-02-05       交通  詹為元\n",
      "..         ...      ...  ...\n",
      "515 2023-06-07       交通  李明賢\n",
      "516 2023-06-07       工務  李明賢\n",
      "517 2023-06-07       工務  李明賢\n",
      "518 2023-06-07       工務  李明賢\n",
      "519 2023-06-07       交通  李明賢\n",
      "\n",
      "[520 rows x 3 columns]\n"
     ]
    }
   ],
   "source": [
    "''' 將民國換成西元以便轉成panda timestamp '''\n",
    "\n",
    "def turn_AD(date_str):\n",
    "    date = re.findall(r'\\d+',date_str)\n",
    "    date[0] = str(int(date[0]) + 1911)\n",
    "    date ='/'.join(date)\n",
    "    return date\n",
    "\n",
    "def turn_Timestamp(df):\n",
    "    day = []        \n",
    "    for i in range(len(df)):\n",
    "        date_str = df[\"Date\"][i]\n",
    "        # print(date_str)\n",
    "        day.append(turn_AD(date_str))\n",
    "    # print(day)\n",
    "    dayf = pd.DataFrame(day, columns=[\"Date\"])\n",
    "    df = df.copy()\n",
    "    df['Date']= pd.to_datetime(dayf['Date'])    # 之後才能算時間區間\n",
    "    return df\n",
    "df = turn_Timestamp(row_data)\n",
    "\n",
    "type(df['Date'][0])       #確認成功轉換\n",
    "print(df)"
   ]
  },
  {
   "cell_type": "markdown",
   "metadata": {},
   "source": [
    "### 完成資料蒐集, 畫圖表分析\n",
    "- 先確認有中文字在mambaforge裡\n",
    "- 資料分析\n",
    "    - 某時間區間的個人提案數 "
   ]
  },
  {
   "cell_type": "code",
   "execution_count": 41,
   "metadata": {},
   "outputs": [],
   "source": [
    "''' 解決畫圖的中文輸入 '''\n",
    "mpl.rcParams['font.sans-serif'] = ['Taipei Sans TC Beta']  # 指定中文字體\n",
    "mpl.rcParams['axes.unicode_minus'] = False  # 解決負號'-'無法顯示的問題"
   ]
  },
  {
   "cell_type": "code",
   "execution_count": null,
   "metadata": {},
   "outputs": [],
   "source": [
    "'''某時間區間的個人提案數'''\n",
    "def date_filter(_df, date_s='2023-6-01', date_e='2024-02-30'):\n",
    "    df = _df.copy()\n",
    "    select = df.loc[(df['Date'] >= date_s) & (df['Date'] < date_e)]\n",
    "    name_cnt = select[\"Name\"].value_counts()\n",
    "    print(name_cnt[:10])\n",
    "    return name_cnt[:10]\n",
    "\n",
    "print(\"2023整年個人質詢數目前10名\")\n",
    "# date_filter(df)\n",
    "\n",
    "# print(\"2022前半年個人質詢數目前10名\")\n",
    "# date_filter(df,date_s=\"2021-12-30\",date_e=\"2022-06-30\")\n",
    "\n",
    "# print(\"2022後半年個人質詢數目前10名\")\n",
    "# date_filter(df,date_s=\"2022-06-30\",date_e=\"2022-12-30\")"
   ]
  },
  {
   "cell_type": "code",
   "execution_count": null,
   "metadata": {},
   "outputs": [],
   "source": [
    "\n",
    "\n",
    "\n",
    "'''正值選舉期間議員的書面質詢件數會減少嗎?'''\n",
    "def bar_chart(df):\n",
    "    x = df.index\n",
    "    y = df\n",
    "    plt.bar(x, y)\n",
    "    plt.title('2022後半年書面質詢件數前十名', fontsize =16)\n",
    "    plt.xlabel(\"姓名\", fontsize =12)\n",
    "    plt.ylabel(\"件數\", fontsize =12)\n",
    "    for i, v in enumerate(y):\n",
    "        plt.text(i, v, str(v), ha='center')\n",
    "    plt.savefig('halfyear_thebest10.png')\n",
    "    plt.show()    \n",
    "\n",
    "a = date_filter(df,date_s=\"2022-05-26\",date_e=\"2022-11-26\")\n",
    "bar_chart(a.iloc[:10])\n",
    "\n",
    "''' 以部門分類 '''\n",
    "\n",
    "def filter_category_latest(_df, date_s='2022-06-01', date_e='2022-12-30', category=\"交通\"):\n",
    "    df = _df.copy()\n",
    "    df_filtered = df.loc[(df['Date'] >= date_s) & (df['Date'] < date_e) & (df['Category']==category)]\n",
    "    name_cnt = df_filtered[\"Name\"].value_counts()\n",
    "    print(f\"2022後半年關於{category}部門書面質詢有: {len(df_filtered)} 筆\")\n",
    "    print(f\"針對{category}部門書面質詢前十名的人如下：\")\n",
    "    print(name_cnt[:10])\n",
    "\n",
    "cats = [\"交通\", \"工務\", \"警政衛生\", \"民政\", \"教育\", \"財政建設\"]\n",
    "for c in cats:\n",
    "    filter_category_latest(df, category= c)\n",
    "    print(\"----------------------------------\")\n",
    "\n",
    "\n",
    "def filter_category_former(_df, date_s='2021-12-30', date_e='2022-06-30', category=\"交通\"):\n",
    "    df = _df.copy()\n",
    "    df_filtered = df.loc[(df['Date'] >= date_s) & (df['Date'] < date_e) & (df['Category']==category)]\n",
    "    name_cnt = df_filtered[\"Name\"].value_counts()\n",
    "    print(f\"2022前半年關於{category}部門書面質詢有: {len(df_filtered)} 筆\")\n",
    "    print(f\"針對{category}部門書面質詢前十名的人如下：\")\n",
    "    print(name_cnt[:10])\n",
    "\n",
    "filter_category_former(df, category=\"交通\")\n",
    "\n",
    " \n",
    "def pie_chart(df,category:str,name:str):\n",
    "    txt = df.index\n",
    "    n = df\n",
    "    plt.pie(n, labels=txt,autopct=\"%1.1f%%\")\n",
    "    plt.title(f'半年內{category}案件數量前十名')\n",
    "    plt.savefig(f'{name}')\n",
    "    plt.show()\n",
    "   \n",
    "def create_pie_chart(_df, category):\n",
    "    df = _df.copy()\n",
    "    df_filtered = df.loc[(df['Date'] >= '2022-06-30') & (df['Date'] < '2022-12-30') & (df['Category']==category)]\n",
    "    name_cnt = df_filtered[\"Name\"].value_counts()\n",
    "    pie_chart(name_cnt.iloc[:10],category,f\"halfyear_{category}\")\n",
    "\n",
    "print(\"\")\n",
    "for c in cats:\n",
    "    create_pie_chart(df, c)\n",
    "    \n",
    "\n",
    "'''某時間區間提案少於五件的議員名單'''\n",
    "a=[]\n",
    "df_filtered = df.loc[(df['Date'] >= '2021-12-01') & (df['Date'] < '2022-12-01')]\n",
    "name_cnt = df_filtered[\"Name\"].value_counts()\n",
    "print(\"2022整年書面質詢少於五件的議員名單：\")\n",
    "for n, v in zip(name_cnt.index, name_cnt):\n",
    "    if v <= 5:\n",
    "        print(n,v)\n",
    "        a.append(v) #查看總共幾位\n",
    "print(f\"總共有: {len(a)} 位議員\") \n",
    "\n",
    "for c in cats:\n",
    "    df_filtered = df.loc[(df['Date'] >= '2021-12-01') & (df['Date'] < '2022-12-30') & (df['Category']==c)]\n",
    "    res = df_filtered[\"Date\"].dt.to_period('M').apply(lambda r: r.start_time)\n",
    "    data = res.value_counts().sort_index()\n",
    "    print(data)\n",
    "    plt.plot(data.index,data, label=c)\n",
    "    plt.legend()\n",
    "    plt.show()\n",
    "\n",
    "\n",
    "\n",
    "''' 時間區間的警政衛生項目每月幾筆 '''\n",
    "for c in cats:\n",
    "    df_filtered = df.loc[(df['Date'] >= '2021-12-01') & (df['Date'] < '2022-12-30') & (df['Category']==c)]\n",
    "    res = df_filtered[\"Date\"].dt.to_period('M').apply(lambda r: r.start_time)\n",
    "    data = res.value_counts().sort_index()\n",
    "\n",
    "    if c == \"警政衛生\":\n",
    "        '''警政衛生的月份少了2022-12-01'''\n",
    "        date = pd.to_datetime('2022-12-01')\n",
    "        data = pd.concat([data, pd.Series([0], index=[date])])\n",
    "\n",
    "    plt.bar(data.index,data, label=c,width=15)\n",
    "plt.title('一年內的各項目每月件數 ')\n",
    "plt.xlabel('月份')\n",
    "plt.ylabel('件數')\n",
    "plt.legend()\n",
    "plt.savefig('all_item_yearcases.png')\n",
    "plt.show()\n"
   ]
  },
  {
   "cell_type": "code",
   "execution_count": null,
   "metadata": {},
   "outputs": [],
   "source": [
    "'''將時間換成西元以便轉成panda timestamp'''\n",
    "# all = pd.read_csv(\"./final_project/table.csv\", index_col=0)\n",
    "# all[\"Date\"]\n",
    "\n",
    "def turn_AD(date_str):\n",
    "    date = re.findall(r'\\d+',date_str)\n",
    "    date[0] = str(int(date[0]) + 1911)\n",
    "    dates ='/'.join(date)\n",
    "    return dates\n",
    "# turn_AD(all[\"Date\"][2])   #test\n",
    "day = []        \n",
    "for i in range(len(df)):\n",
    "    date_str = df[\"Date\"][i]\n",
    "    # print(date_str)\n",
    "    day.append(turn_AD(date_str))\n",
    "    \n",
    "# print(day)\n",
    "  \n",
    "dayf = pd.DataFrame(day, columns=[\"Date\"])\n",
    "\n",
    "df['Date']= pd.to_datetime(dayf['Date'])\n",
    "# type(df['Date'][0])"
   ]
  },
  {
   "cell_type": "code",
   "execution_count": null,
   "metadata": {},
   "outputs": [],
   "source": [
    "df['Date']"
   ]
  },
  {
   "cell_type": "code",
   "execution_count": null,
   "metadata": {},
   "outputs": [],
   "source": [
    "df.info()"
   ]
  },
  {
   "cell_type": "code",
   "execution_count": null,
   "metadata": {},
   "outputs": [],
   "source": [
    "a = df[\"Category\"].value_counts()\n",
    "a"
   ]
  },
  {
   "cell_type": "code",
   "execution_count": null,
   "metadata": {},
   "outputs": [],
   "source": [
    "df.head(10)"
   ]
  },
  {
   "cell_type": "code",
   "execution_count": null,
   "metadata": {},
   "outputs": [],
   "source": [
    "def browse(page:int,num:int):\n",
    "    print(f\"查看第{page}頁,第{num}筆:\")\n",
    "    data = (page-1)*10 + (num-1)\n",
    "    print(df.loc[data])\n",
    "browse(1,4)"
   ]
  },
  {
   "cell_type": "code",
   "execution_count": null,
   "metadata": {},
   "outputs": [],
   "source": [
    "'''某時間區間的個人提案數'''\n",
    "def date_filter(st:str,ed:str):    \n",
    "    # print(all)\n",
    "    select = df.loc[(df['Date'] >= st) & (df['Date'] < ed)]\n",
    "    name_cnt = select[\"Name\"].value_counts()\n",
    "    return select,name_cnt\n",
    "\n",
    "select, name_cnt = date_filter('2022-05-26','2022-11-26')\n",
    "name_cnt[:10]"
   ]
  },
  {
   "cell_type": "code",
   "execution_count": null,
   "metadata": {},
   "outputs": [],
   "source": [
    "mpl.rcParams['font.sans-serif'] = ['Taipei Sans TC Beta']  # 指定中文字體\n",
    "mpl.rcParams['axes.unicode_minus'] = False  # 解決負號'-'無法顯示的問題"
   ]
  },
  {
   "cell_type": "code",
   "execution_count": null,
   "metadata": {},
   "outputs": [],
   "source": [
    "'''正值選舉期間議員的書面質詢件數會減少嗎?'''\n",
    "def bar_chart(df):\n",
    "    x = df.index\n",
    "    y = df\n",
    "    plt.bar(x, y)\n",
    "    plt.title('半年內書面質詢件數前十名', fontsize =16)\n",
    "    plt.xlabel(\"姓名\", fontsize =12)\n",
    "    plt.ylabel(\"件數\", fontsize =12)\n",
    "    for i, v in enumerate(y):\n",
    "        plt.text(i, v, str(v), ha='center')\n",
    "    plt.savefig('halfyear_thebest10.png')\n",
    "    plt.show()    \n",
    "bar_chart(name_cnt.iloc[:10])"
   ]
  },
  {
   "cell_type": "code",
   "execution_count": null,
   "metadata": {},
   "outputs": [],
   "source": [
    "'''某時間區間\"交通\"項目由誰提案最多(哪一區較常有交通糾紛)'''\n",
    "df_filtered = df.loc[(df['Date'] >= '2021-12-01') & (df['Date'] < '2022-12-01') & (df['Category']==\"交通\")]\n",
    "name_cnt_traffic = df_filtered[\"Name\"].value_counts()\n",
    "print(len(df_filtered))\n",
    "print(name_cnt_traffic)\n",
    "# df_filtered"
   ]
  },
  {
   "cell_type": "code",
   "execution_count": null,
   "metadata": {},
   "outputs": [],
   "source": [
    "'''某時間區間\"警政衛生\"項目由誰提案最多(哪一區較常有警政衛生糾紛)'''\n",
    "df_filtered = df.loc[(df['Date'] >= '2021-12-01') & (df['Date'] < '2022-12-01') & (df['Category']==\"警政衛生\")]\n",
    "name_cnt_police = df_filtered[\"Name\"].value_counts()\n",
    "print(len(df_filtered))\n",
    "print(name_cnt_police)\n",
    "# df_filtered"
   ]
  },
  {
   "cell_type": "code",
   "execution_count": null,
   "metadata": {},
   "outputs": [],
   "source": [
    "'''某時間區間\"民政\"項目由誰提案最多(哪一區較常有民政糾紛)'''\n",
    "df_filtered = df.loc[(df['Date'] >= '2021-12-01') & (df['Date'] < '2022-12-01') & (df['Category']==\"民政\")]\n",
    "name_cnt_civilaffairs = df_filtered[\"Name\"].value_counts()\n",
    "print(len(df_filtered))\n",
    "print(name_cnt_civilaffairs)"
   ]
  },
  {
   "cell_type": "code",
   "execution_count": null,
   "metadata": {},
   "outputs": [],
   "source": [
    "'''某時間區間\"教育\"項目由誰提案最多(哪一區較常有教育糾紛)'''\n",
    "df_filtered = df.loc[(df['Date'] >= '2021-12-01') & (df['Date'] < '2022-12-01') & (df['Category']==\"教育\")]\n",
    "name_cnt_education = df_filtered[\"Name\"].value_counts()\n",
    "print(len(df_filtered))\n",
    "print(name_cnt_education)"
   ]
  },
  {
   "cell_type": "code",
   "execution_count": null,
   "metadata": {},
   "outputs": [],
   "source": [
    "def pie_chart(df,category:str,name:str):\n",
    "    txt = df.index\n",
    "    n = df\n",
    "    plt.pie(n, labels=txt,autopct=\"%1.1f%%\")\n",
    "    plt.title(f'半年內{category}案件數量前十名')\n",
    "    plt.savefig(f'{name}')\n",
    "    plt.show()\n"
   ]
  },
  {
   "cell_type": "code",
   "execution_count": null,
   "metadata": {},
   "outputs": [],
   "source": [
    "pie_chart(name_cnt_traffic.iloc[:10],'交通',\"halfyear_traffics\")\n",
    "pie_chart(name_cnt_police.iloc[:10],'警政衛生',\"halfyear_PoliceHygiene\")\n",
    "pie_chart(name_cnt_civilaffairs.iloc[:10],'民政',\"halfyear_civilaffairs\")\n",
    "pie_chart(name_cnt_education.iloc[:10],'教育',\"halfyear_education\")\n",
    "\n"
   ]
  },
  {
   "cell_type": "code",
   "execution_count": null,
   "metadata": {},
   "outputs": [],
   "source": [
    "'''某時間區間提案少於五件的議員名單'''\n",
    "a=[]\n",
    "df_filtered = df.loc[(df['Date'] >= '2021-12-01') & (df['Date'] < '2022-12-01')]\n",
    "name_cnt = df_filtered[\"Name\"].value_counts()\n",
    "print(\"2022整年書面質詢少於五件的議員名單：\")\n",
    "for n, v in zip(name_cnt.index, name_cnt):\n",
    "    if v <= 5:\n",
    "        # print(f\"Get out {n} :), w/ {v} issues.\")\n",
    "        print(n,v)\n",
    "        a.append(v) #查看總共幾位\n",
    "print(f\"總共有: {len(a)} 位議員\")\n"
   ]
  },
  {
   "cell_type": "code",
   "execution_count": null,
   "metadata": {},
   "outputs": [],
   "source": [
    "''' 各項目提案的時間 '''\n",
    "df_ls = df.groupby('Category')['Date'].apply(list)\n",
    "df_ls"
   ]
  },
  {
   "cell_type": "code",
   "execution_count": null,
   "metadata": {},
   "outputs": [],
   "source": [
    "''' 時間區間的交通項目每月幾筆 '''\n",
    "# df_ls.index\n",
    "# df_ls[0]\n",
    "df_filtered = df.loc[(df['Date'] >= '2021-12-01') & (df['Date'] < '2022-12-28') & (df['Category']==\"交通\")]\n",
    "res = df_filtered[\"Date\"].dt.to_period('M').apply(lambda r: r.start_time)\n",
    "traf = res.value_counts().sort_index()\n",
    "\n",
    "print(traf)\n",
    "plt.plot(traf.index,traf, label='交通',color='orange')\n",
    "plt.legend()\n",
    "plt.show()"
   ]
  },
  {
   "cell_type": "code",
   "execution_count": null,
   "metadata": {},
   "outputs": [],
   "source": [
    "''' 時間區間的警政衛生項目每月幾筆 '''\n",
    "# df_ls.index\n",
    "# df_ls[0]\n",
    "df_filtered = df.loc[(df['Date'] >= '2021-12-01') & (df['Date'] < '2022-12-28') & (df['Category']==\"警政衛生\")]\n",
    "res = df_filtered[\"Date\"].dt.to_period('M').apply(lambda r: r.start_time)\n",
    "police = res.value_counts().sort_index()\n",
    "\n",
    "\n",
    "print(police)\n",
    "plt.plot(police.index,police, label='警政衛生',color='salmon')\n",
    "plt.legend()\n",
    "plt.show()"
   ]
  },
  {
   "cell_type": "code",
   "execution_count": null,
   "metadata": {},
   "outputs": [],
   "source": [
    "''' 時間區間的財政建設項目每月幾筆 '''\n",
    "# df_ls.index\n",
    "# df_ls[0]\n",
    "df_filtered = df.loc[(df['Date'] >= '2021-12-01') & (df['Date'] < '2022-12-28') & (df['Category']==\"財政建設\")]\n",
    "res = df_filtered[\"Date\"].dt.to_period('M').apply(lambda r: r.start_time)\n",
    "finance = res.value_counts().sort_index()\n",
    "print(finance)\n",
    "plt.plot(finance.index,finance, label='財政建設',color='r')\n",
    "plt.legend()\n",
    "plt.show()"
   ]
  },
  {
   "cell_type": "code",
   "execution_count": null,
   "metadata": {},
   "outputs": [],
   "source": [
    "''' 時間區間的工務項目每月幾筆 '''\n",
    "# df_ls.index\n",
    "# df_ls[0]\n",
    "df_filtered = df.loc[(df['Date'] >= '2021-12-01') & (df['Date'] < '2022-12-28') & (df['Category']==\"工務\")]\n",
    "res = df_filtered[\"Date\"].dt.to_period('M').apply(lambda r: r.start_time)\n",
    "public_work = res.value_counts().sort_index()\n",
    "print(public_work)\n",
    "plt.plot(public_work.index,public_work, label='工務',color='plum')\n",
    "plt.legend()\n",
    "plt.show()"
   ]
  },
  {
   "cell_type": "code",
   "execution_count": null,
   "metadata": {},
   "outputs": [],
   "source": [
    "''' 時間區間的教育項目每月幾筆 '''\n",
    "# df_ls.index\n",
    "# df_ls[0]\n",
    "df_filtered = df.loc[(df['Date'] >= '2021-12-01') & (df['Date'] < '2022-12-28') & (df['Category']==\"教育\")]\n",
    "res = df_filtered[\"Date\"].dt.to_period('M').apply(lambda r: r.start_time)\n",
    "educate = res.value_counts().sort_index()\n",
    "print(educate)\n",
    "plt.plot(educate.index,educate, label='教育',color='darkseagreen')\n",
    "plt.legend()\n",
    "plt.show()"
   ]
  },
  {
   "cell_type": "code",
   "execution_count": null,
   "metadata": {},
   "outputs": [],
   "source": [
    "''' 時間區間的民政項目每月幾筆 '''\n",
    "# df_ls.index\n",
    "# df_ls[0]\n",
    "df_filtered = df.loc[(df['Date'] >= '2021-12-01') & (df['Date'] < '2022-12-28') & (df['Category']==\"民政\")]\n",
    "res = df_filtered[\"Date\"].dt.to_period('M').apply(lambda r: r.start_time)\n",
    "civil = res.value_counts().sort_index()\n",
    "print(civil)\n",
    "\n",
    "plt.plot(civil.index,civil, label='民政',color='skyblue')\n",
    "plt.legend()\n",
    "plt.show()"
   ]
  },
  {
   "cell_type": "code",
   "execution_count": null,
   "metadata": {},
   "outputs": [],
   "source": [
    "'''警政衛生的月份少了2022-12-01'''\n",
    "date = pd.to_datetime('2022-12-01')\n",
    "new_row = pd.Series([0], index=[date])\n",
    "newpolice = pd.concat([police,new_row])\n",
    "newpolice"
   ]
  },
  {
   "cell_type": "code",
   "execution_count": null,
   "metadata": {},
   "outputs": [],
   "source": [
    "plt.bar(newpolice.index,newpolice, label='警政衛生',width=15)\n",
    "plt.bar(educate.index,educate, label='教育',width=15)\n",
    "plt.bar(traf.index,traf, label='交通',width=15)\n",
    "plt.bar(public_work.index,public_work, label='工務',width=15)\n",
    "plt.bar(finance.index,finance, label='財政建設',width=15)\n",
    "plt.bar(civil.index,civil, label='民政',width=15)\n",
    "\n",
    "plt.title('一年內的各項目每月件數 ')\n",
    "plt.xlabel('月份')\n",
    "plt.ylabel('件數')\n",
    "plt.legend()\n",
    "plt.savefig('all_item_yearcases.png')\n",
    "plt.show()\n"
   ]
  },
  {
   "cell_type": "code",
   "execution_count": null,
   "metadata": {},
   "outputs": [],
   "source": [
    "name_cnt = df[\"Name\"].value_counts()\n",
    "date_cnt = df[\"Date\"].value_counts()\n",
    "cate_cnt = df[\"Category\"].value_counts()\n",
    "print(name_cnt,date_cnt,cate_cnt)"
   ]
  },
  {
   "cell_type": "code",
   "execution_count": null,
   "metadata": {},
   "outputs": [],
   "source": [
    "''' 將中文字導入matplotlib.font '''\n",
    "# import matplotlib\n",
    "# print(matplotlib.__file__)\n",
    "''' 刪掉既有的快取文字字體(找fontList.json並刪除) '''\n",
    "# import matplotlib\n",
    "# print(matplotlib.get_cachedir())\n",
    "''' 確認字體 ''' \n",
    "import matplotlib\n",
    "import matplotlib.font_manager\n",
    "a = sorted([f.name for f in matplotlib.font_manager.fontManager.ttflist])\n",
    " \n",
    "for i in a:\n",
    "    print(i)"
   ]
  },
  {
   "cell_type": "code",
   "execution_count": null,
   "metadata": {},
   "outputs": [],
   "source": [
    "import re\n",
    "import time\n",
    "import numpy as np\n",
    "import pandas as pd\n",
    "import requests as rq\n",
    "from bs4 import BeautifulSoup\n",
    "import matplotlib.pyplot as plt\n",
    "import matplotlib as mpl \n",
    "import final_project.utils as u"
   ]
  },
  {
   "cell_type": "code",
   "execution_count": null,
   "metadata": {},
   "outputs": [],
   "source": [
    "df = pd.read_csv(\"./table_1to78.csv\", encoding=\"utf_8_sig\", index_col=0)\n",
    "df = u.turn_Timestamp(df)"
   ]
  },
  {
   "cell_type": "code",
   "execution_count": null,
   "metadata": {},
   "outputs": [],
   "source": [
    "cats = [\"交通\", \"工務\", \"警政衛生\", \"民政\", \"教育\", \"財政建設\"]\n",
    "\"\"\"折線圖\"\"\"\n",
    "for c in cats:\n",
    "    df_filtered = df.loc[(df['Date'] >= '2021-12-01') & (df['Date'] < '2022-12-30') & (df['Category']==c)]\n",
    "    res = df_filtered[\"Date\"].dt.to_period('M').apply(lambda r: r.start_time)\n",
    "    data = res.value_counts().sort_index()\n",
    "    print(data)\n",
    "    print(data.index)\n",
    "    \n",
    "    plt.plot(data.index, data, label=c)\n",
    "    plt.legend()\n",
    "    plt.show()"
   ]
  },
  {
   "cell_type": "code",
   "execution_count": null,
   "metadata": {},
   "outputs": [],
   "source": [
    "[str(i) for i in data.index]"
   ]
  },
  {
   "cell_type": "code",
   "execution_count": null,
   "metadata": {},
   "outputs": [],
   "source": [
    "data.index"
   ]
  },
  {
   "cell_type": "code",
   "execution_count": null,
   "metadata": {},
   "outputs": [],
   "source": [
    "[i.strftime(\"%m\") for i in data.index]"
   ]
  },
  {
   "cell_type": "code",
   "execution_count": null,
   "metadata": {},
   "outputs": [],
   "source": []
  }
 ],
 "metadata": {
  "kernelspec": {
   "display_name": "ncku",
   "language": "python",
   "name": "python3"
  },
  "language_info": {
   "codemirror_mode": {
    "name": "ipython",
    "version": 3
   },
   "file_extension": ".py",
   "mimetype": "text/x-python",
   "name": "python",
   "nbconvert_exporter": "python",
   "pygments_lexer": "ipython3",
   "version": "3.10.6"
  },
  "orig_nbformat": 4,
  "vscode": {
   "interpreter": {
    "hash": "df433441e986999647d271f4a78e3e857380968c0614f7ba0c2ca9a467838d8a"
   }
  }
 },
 "nbformat": 4,
 "nbformat_minor": 2
}
